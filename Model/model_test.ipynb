{
 "cells": [
  {
   "cell_type": "code",
   "execution_count": 24,
   "metadata": {
    "editable": true,
    "slideshow": {
     "slide_type": ""
    },
    "tags": []
   },
   "outputs": [],
   "source": [
    "import os\n",
    "import sys\n",
    "module_path = os.path.abspath(os.path.join('..'))\n",
    "if module_path not in sys.path:\n",
    "    sys.path.append(module_path)\n",
    "    %load_ext autoreload\n",
    "%autoreload 2"
   ]
  },
  {
   "cell_type": "code",
   "execution_count": 25,
   "metadata": {},
   "outputs": [],
   "source": [
    "from utils.core import Load_data\n",
    "import pandas as pd\n",
    "from Model.preprocessing.pipelines import Data_Process\n",
    "from Model.preprocessing.datasetManager import DatasetManger\n",
    "from Model.base.train import cross_validation\n",
    "from Model.base.model import make_model\n",
    "from Model.base.logger import LoggerManager\n",
    "import tensorflow as tf\n",
    "from Model.base.evaluator import  EvalutionClassifer, Drow\n",
    "import os\n",
    "import numpy as np"
   ]
  },
  {
   "cell_type": "code",
   "execution_count": 26,
   "metadata": {},
   "outputs": [],
   "source": [
    "model_path = \"./trained_model/10model0.keras\"\n",
    "dataset_pd = dataset_pd = pd.read_csv(\n",
    "    \"../dataset/FullDatasetAndWavlet.csv\", index_col=\"annot_id\")\n",
    "\n",
    "dataset_pd.loc[\"125_\"] = dataset_pd.loc[\"125_\"].fillna(0.9)\n",
    "\n",
    "column_interest = [\n",
    "    'ti-rads_level',\n",
    "    'original_ngtdm_Coarseness',\n",
    "    'wavelet-HH_glcm_MaximumProbability',\n",
    "    'wavelet-LH_glszm_LargeAreaHighGrayLevelEmphasis',\n",
    "    'sex',\n",
    "    'age',\n",
    "    'size_x',\n",
    "    'ti-rads_margin',\n",
    "    'ti-rads_echogenicfoci',\n",
    "    'wavelet-LH_glcm_SumEntropy',\n",
    "    'original_firstorder_Kurtosis',\n",
    "    'wavelet-LL_glszm_LargeAreaLowGrayLevelEmphasis',\n",
    "    'wavelet-HL_firstorder_Energy',\n",
    "    'size_y',\n",
    "    'ti-rads_shape',\n",
    "    'wavelet-HH_glrlm_RunLengthNonUniformityNormalized',\n",
    "    'size_z',\n",
    "    'wavelet-LL_glcm_MCC',\n",
    "    'wavelet-HH_firstorder_Variance',\n",
    "    'wavelet-HL_glszm_HighGrayLevelZoneEmphasis',\n",
    "    'wavelet-HH_glszm_LargeAreaHighGrayLevelEmphasis',\n",
    "    'original_firstorder_InterquartileRange',\n",
    "    'wavelet-HL_glrlm_ShortRunLowGrayLevelEmphasis',\n",
    "    'wavelet-HL_glszm_LargeAreaHighGrayLevelEmphasis',\n",
    "    'original_firstorder_Skewness',\n",
    "    'wavelet-LH_gldm_DependenceEntropy',\n",
    "    'original_glszm_LargeAreaLowGrayLevelEmphasis',\n",
    "    'wavelet-HH_glrlm_RunLengthNonUniformity',\n",
    "    'original_shape2D_Sphericity',\n",
    "    'wavelet-HL_firstorder_Median'\n",
    "]\n",
    "\n",
    "X = dataset_pd[column_interest]\n",
    "\n",
    "\n",
    "Y = dataset_pd['histopath_diagnosis'].astype(np.float32)\n",
    "\n",
    "batch_size = 32\n",
    "test_size = 0.1\n",
    "\n",
    "\n",
    "managerdataset = DatasetManger(\n",
    "    X, Y, batch_size=batch_size, n_splits=2, test_size=test_size)\n",
    "features_train, label_train, features_test, label_test = managerdataset.split()[0]\n",
    "\n",
    "categorical_features = [\"sex\"]  # remvoed by mrmr \"location\"\n",
    "\n",
    "numerical_features = [\"ti-rads_level\", \"age\"]\n",
    "\n",
    "Ti_rads_featurea = [\"ti-rads_margin\", \"ti-rads_shape\",\n",
    "                    \"ti-rads_echogenicfoci\"] \n",
    "\n",
    "numerical_features = list(X[X.columns[~X.columns.isin(categorical_features + Ti_rads_featurea)]].columns)\n",
    "\n",
    "scaler = Data_Process(features_train, categorical_features, numerical_features, Ti_rads_featurea)\n",
    "features_train = scaler.fit_transform()\n",
    "features_test = scaler.transform(features_test)\n",
    "\n",
    "\n",
    "set1 = managerdataset.convert_df_to_dataset(features_train, label_train)\n",
    "set2 = managerdataset.convert_df_to_dataset(features_test, label_test)\n",
    "METRICS = [\n",
    "    tf.keras.metrics.BinaryAccuracy,\n",
    "    tf.keras.metrics.Precision,\n",
    "    tf.keras.metrics.Recall,\n",
    "]"
   ]
  },
  {
   "cell_type": "code",
   "execution_count": 27,
   "metadata": {},
   "outputs": [
    {
     "name": "stdout",
     "output_type": "stream",
     "text": [
      "Model: \"model_3\"\n",
      "__________________________________________________________________________________________________\n",
      " Layer (type)                Output Shape                 Param #   Connected to                  \n",
      "==================================================================================================\n",
      " categorical__sex_Female (I  [(32, 1, 1)]                 0         []                            \n",
      " nputLayer)                                                                                       \n",
      "                                                                                                  \n",
      " categorical__sex_Male (Inp  [(32, 1, 1)]                 0         []                            \n",
      " utLayer)                                                                                         \n",
      "                                                                                                  \n",
      " num__ti-rads_level (InputL  [(32, 1, 1)]                 0         []                            \n",
      " ayer)                                                                                            \n",
      "                                                                                                  \n",
      " num__original_ngtdm_Coarse  [(32, 1, 1)]                 0         []                            \n",
      " ness (InputLayer)                                                                                \n",
      "                                                                                                  \n",
      " num__wavelet-HH_glcm_Maxim  [(32, 1, 1)]                 0         []                            \n",
      " umProbability (InputLayer)                                                                       \n",
      "                                                                                                  \n",
      " num__wavelet-LH_glszm_Larg  [(32, 1, 1)]                 0         []                            \n",
      " eAreaHighGrayLevelEmphasis                                                                       \n",
      "  (InputLayer)                                                                                    \n",
      "                                                                                                  \n",
      " num__age (InputLayer)       [(32, 1, 1)]                 0         []                            \n",
      "                                                                                                  \n",
      " num__size_x (InputLayer)    [(32, 1, 1)]                 0         []                            \n",
      "                                                                                                  \n",
      " num__wavelet-LH_glcm_SumEn  [(32, 1, 1)]                 0         []                            \n",
      " tropy (InputLayer)                                                                               \n",
      "                                                                                                  \n",
      " num__original_firstorder_K  [(32, 1, 1)]                 0         []                            \n",
      " urtosis (InputLayer)                                                                             \n",
      "                                                                                                  \n",
      " num__wavelet-LL_glszm_Larg  [(32, 1, 1)]                 0         []                            \n",
      " eAreaLowGrayLevelEmphasis                                                                        \n",
      " (InputLayer)                                                                                     \n",
      "                                                                                                  \n",
      " num__wavelet-HL_firstorder  [(32, 1, 1)]                 0         []                            \n",
      " _Energy (InputLayer)                                                                             \n",
      "                                                                                                  \n",
      " num__size_y (InputLayer)    [(32, 1, 1)]                 0         []                            \n",
      "                                                                                                  \n",
      " num__wavelet-HH_glrlm_RunL  [(32, 1, 1)]                 0         []                            \n",
      " engthNonUniformityNormaliz                                                                       \n",
      " ed (InputLayer)                                                                                  \n",
      "                                                                                                  \n",
      " num__size_z (InputLayer)    [(32, 1, 1)]                 0         []                            \n",
      "                                                                                                  \n",
      " num__wavelet-LL_glcm_MCC (  [(32, 1, 1)]                 0         []                            \n",
      " InputLayer)                                                                                      \n",
      "                                                                                                  \n",
      " num__wavelet-HH_firstorder  [(32, 1, 1)]                 0         []                            \n",
      " _Variance (InputLayer)                                                                           \n",
      "                                                                                                  \n",
      " num__wavelet-HL_glszm_High  [(32, 1, 1)]                 0         []                            \n",
      " GrayLevelZoneEmphasis (Inp                                                                       \n",
      " utLayer)                                                                                         \n",
      "                                                                                                  \n",
      " num__wavelet-HH_glszm_Larg  [(32, 1, 1)]                 0         []                            \n",
      " eAreaHighGrayLevelEmphasis                                                                       \n",
      "  (InputLayer)                                                                                    \n",
      "                                                                                                  \n",
      " num__original_firstorder_I  [(32, 1, 1)]                 0         []                            \n",
      " nterquartileRange (InputLa                                                                       \n",
      " yer)                                                                                             \n",
      "                                                                                                  \n",
      " num__wavelet-HL_glrlm_Shor  [(32, 1, 1)]                 0         []                            \n",
      " tRunLowGrayLevelEmphasis (                                                                       \n",
      " InputLayer)                                                                                      \n",
      "                                                                                                  \n",
      " num__wavelet-HL_glszm_Larg  [(32, 1, 1)]                 0         []                            \n",
      " eAreaHighGrayLevelEmphasis                                                                       \n",
      "  (InputLayer)                                                                                    \n",
      "                                                                                                  \n",
      " num__original_firstorder_S  [(32, 1, 1)]                 0         []                            \n",
      " kewness (InputLayer)                                                                             \n",
      "                                                                                                  \n",
      " num__wavelet-LH_gldm_Depen  [(32, 1, 1)]                 0         []                            \n",
      " denceEntropy (InputLayer)                                                                        \n",
      "                                                                                                  \n",
      " num__original_glszm_LargeA  [(32, 1, 1)]                 0         []                            \n",
      " reaLowGrayLevelEmphasis (I                                                                       \n",
      " nputLayer)                                                                                       \n",
      "                                                                                                  \n",
      " num__wavelet-HH_glrlm_RunL  [(32, 1, 1)]                 0         []                            \n",
      " engthNonUniformity (InputL                                                                       \n",
      " ayer)                                                                                            \n",
      "                                                                                                  \n",
      " num__original_shape2D_Sphe  [(32, 1, 1)]                 0         []                            \n",
      " ricity (InputLayer)                                                                              \n",
      "                                                                                                  \n",
      " num__wavelet-HL_firstorder  [(32, 1, 1)]                 0         []                            \n",
      " _Median (InputLayer)                                                                             \n",
      "                                                                                                  \n",
      " tirads__ti-rads_margin (In  [(32, 1, 1)]                 0         []                            \n",
      " putLayer)                                                                                        \n",
      "                                                                                                  \n",
      " tirads__ti-rads_shape (Inp  [(32, 1, 1)]                 0         []                            \n",
      " utLayer)                                                                                         \n",
      "                                                                                                  \n",
      " tirads__ti-rads_echogenicf  [(32, 1, 1)]                 0         []                            \n",
      " oci (InputLayer)                                                                                 \n",
      "                                                                                                  \n",
      " concatenate_5 (Concatenate  (32, 31, 1)                  0         ['categorical__sex_Female[0][0\n",
      " )                                                                  ]',                           \n",
      "                                                                     'categorical__sex_Male[0][0]'\n",
      "                                                                    , 'num__ti-rads_level[0][0]', \n",
      "                                                                     'num__original_ngtdm_Coarsene\n",
      "                                                                    ss[0][0]',                    \n",
      "                                                                     'num__wavelet-HH_glcm_Maximum\n",
      "                                                                    Probability[0][0]',           \n",
      "                                                                     'num__wavelet-LH_glszm_LargeA\n",
      "                                                                    reaHighGrayLevelEmphasis[0][0]\n",
      "                                                                    ',                            \n",
      "                                                                     'num__age[0][0]',            \n",
      "                                                                     'num__size_x[0][0]',         \n",
      "                                                                     'num__wavelet-LH_glcm_SumEntr\n",
      "                                                                    opy[0][0]',                   \n",
      "                                                                     'num__original_firstorder_Kur\n",
      "                                                                    tosis[0][0]',                 \n",
      "                                                                     'num__wavelet-LL_glszm_LargeA\n",
      "                                                                    reaLowGrayLevelEmphasis[0][0]'\n",
      "                                                                    , 'num__wavelet-HL_firstorder_\n",
      "                                                                    Energy[0][0]',                \n",
      "                                                                     'num__size_y[0][0]',         \n",
      "                                                                     'num__wavelet-HH_glrlm_RunLen\n",
      "                                                                    gthNonUniformityNormalized[0][\n",
      "                                                                    0]',                          \n",
      "                                                                     'num__size_z[0][0]',         \n",
      "                                                                     'num__wavelet-LL_glcm_MCC[0][\n",
      "                                                                    0]',                          \n",
      "                                                                     'num__wavelet-HH_firstorder_V\n",
      "                                                                    ariance[0][0]',               \n",
      "                                                                     'num__wavelet-HL_glszm_HighGr\n",
      "                                                                    ayLevelZoneEmphasis[0][0]',   \n",
      "                                                                     'num__wavelet-HH_glszm_LargeA\n",
      "                                                                    reaHighGrayLevelEmphasis[0][0]\n",
      "                                                                    ',                            \n",
      "                                                                     'num__original_firstorder_Int\n",
      "                                                                    erquartileRange[0][0]',       \n",
      "                                                                     'num__wavelet-HL_glrlm_ShortR\n",
      "                                                                    unLowGrayLevelEmphasis[0][0]',\n",
      "                                                                     'num__wavelet-HL_glszm_LargeA\n",
      "                                                                    reaHighGrayLevelEmphasis[0][0]\n",
      "                                                                    ',                            \n",
      "                                                                     'num__original_firstorder_Ske\n",
      "                                                                    wness[0][0]',                 \n",
      "                                                                     'num__wavelet-LH_gldm_Depende\n",
      "                                                                    nceEntropy[0][0]',            \n",
      "                                                                     'num__original_glszm_LargeAre\n",
      "                                                                    aLowGrayLevelEmphasis[0][0]', \n",
      "                                                                     'num__wavelet-HH_glrlm_RunLen\n",
      "                                                                    gthNonUniformity[0][0]',      \n",
      "                                                                     'num__original_shape2D_Spheri\n",
      "                                                                    city[0][0]',                  \n",
      "                                                                     'num__wavelet-HL_firstorder_M\n",
      "                                                                    edian[0][0]',                 \n",
      "                                                                     'tirads__ti-rads_margin[0][0]\n",
      "                                                                    ',                            \n",
      "                                                                     'tirads__ti-rads_shape[0][0]'\n",
      "                                                                    , 'tirads__ti-rads_echogenicfo\n",
      "                                                                    ci[0][0]']                    \n",
      "                                                                                                  \n",
      " conv1d_25 (Conv1D)          (32, 31, 8)                  56        ['concatenate_5[0][0]']       \n",
      "                                                                                                  \n",
      " conv1d_26 (Conv1D)          (32, 26, 10)                 490       ['conv1d_25[0][0]']           \n",
      "                                                                                                  \n",
      " dropout_13 (Dropout)        (32, 26, 10)                 0         ['conv1d_26[0][0]']           \n",
      "                                                                                                  \n",
      " average_pooling1d_7 (Avera  (32, 21, 10)                 0         ['dropout_13[0][0]']          \n",
      " gePooling1D)                                                                                     \n",
      "                                                                                                  \n",
      " conv1d_27 (Conv1D)          (32, 16, 13)                 793       ['average_pooling1d_7[0][0]'] \n",
      "                                                                                                  \n",
      " conv1d_28 (Conv1D)          (32, 16, 20)                 1580      ['conv1d_27[0][0]']           \n",
      "                                                                                                  \n",
      " conv1d_29 (Conv1D)          (32, 11, 25)                 3025      ['conv1d_28[0][0]']           \n",
      "                                                                                                  \n",
      " dropout_14 (Dropout)        (32, 11, 25)                 0         ['conv1d_29[0][0]']           \n",
      "                                                                                                  \n",
      " max_pooling1d_3 (MaxPoolin  (32, 6, 25)                  0         ['dropout_14[0][0]']          \n",
      " g1D)                                                                                             \n",
      "                                                                                                  \n",
      " flatten_3 (Flatten)         (32, 150)                    0         ['max_pooling1d_3[0][0]']     \n",
      "                                                                                                  \n",
      " dense_6 (Dense)             (32, 100)                    15100     ['flatten_3[0][0]']           \n",
      "                                                                                                  \n",
      " dropout_15 (Dropout)        (32, 100)                    0         ['dense_6[0][0]']             \n",
      "                                                                                                  \n",
      " dense_7 (Dense)             (32, 1)                      101       ['dropout_15[0][0]']          \n",
      "                                                                                                  \n",
      "==================================================================================================\n",
      "Total params: 21145 (82.60 KB)\n",
      "Trainable params: 21145 (82.60 KB)\n",
      "Non-trainable params: 0 (0.00 Byte)\n",
      "__________________________________________________________________________________________________\n"
     ]
    }
   ],
   "source": [
    "model = tf.keras.models.load_model(model_path)\n",
    "model.summary()"
   ]
  },
  {
   "cell_type": "code",
   "execution_count": 28,
   "metadata": {},
   "outputs": [],
   "source": [
    "evaluator = EvalutionClassifer(\n",
    "    [model], [set1])"
   ]
  },
  {
   "cell_type": "code",
   "execution_count": 29,
   "metadata": {},
   "outputs": [
    {
     "name": "stdout",
     "output_type": "stream",
     "text": [
      "490/490 [==============================] - 1s 2ms/step\n"
     ]
    },
    {
     "data": {
      "text/plain": [
       "{'BinaryAccuracy': 0.97970647, 'Precision': 0.8511358, 'Recall': 0.9943535}"
      ]
     },
     "execution_count": 29,
     "metadata": {},
     "output_type": "execute_result"
    }
   ],
   "source": [
    "evaluator.Calculate_metrics(METRICS, 0)"
   ]
  },
  {
   "cell_type": "code",
   "execution_count": 30,
   "metadata": {},
   "outputs": [
    {
     "name": "stdout",
     "output_type": "stream",
     "text": [
      "490/490 [==============================] - 1s 2ms/step\n"
     ]
    },
    {
     "data": {
      "text/plain": [
       "<sklearn.metrics._plot.confusion_matrix.ConfusionMatrixDisplay at 0x25ce1d0cc90>"
      ]
     },
     "execution_count": 30,
     "metadata": {},
     "output_type": "execute_result"
    },
    {
     "data": {
      "image/png": "[encoded data removed]",
      "text/plain": [
       "<Figure size 640x480 with 2 Axes>"
      ]
     },
     "metadata": {},
     "output_type": "display_data"
    }
   ],
   "source": [
    "evaluator.Draw_Confusion_Matrics(0)"
   ]
  },
  {
   "cell_type": "code",
   "execution_count": 31,
   "metadata": {},
   "outputs": [
    {
     "name": "stdout",
     "output_type": "stream",
     "text": [
      "490/490 [==============================] - 1s 2ms/step\n"
     ]
    },
    {
     "data": {
      "text/plain": [
       "<sklearn.metrics._plot.roc_curve.RocCurveDisplay at 0x25ce3d57550>"
      ]
     },
     "execution_count": 31,
     "metadata": {},
     "output_type": "execute_result"
    },
    {
     "data": {
      "image/png": "[encoded data removed]",
      "text/plain": [
       "<Figure size 640x480 with 1 Axes>"
      ]
     },
     "metadata": {},
     "output_type": "display_data"
    }
   ],
   "source": [
    "evaluator.Draw_ROC(0)"
   ]
  }
 ],
 "metadata": {
  "kernelspec": {
   "display_name": "Python 3 (ipykernel)",
   "language": "python",
   "name": "python3"
  },
  "language_info": {
   "codemirror_mode": {
    "name": "ipython",
    "version": 3
   },
   "file_extension": ".py",
   "mimetype": "text/x-python",
   "name": "python",
   "nbconvert_exporter": "python",
   "pygments_lexer": "ipython3",
   "version": "0.0.0"
  }
 },
 "nbformat": 4,
 "nbformat_minor": 4
}
