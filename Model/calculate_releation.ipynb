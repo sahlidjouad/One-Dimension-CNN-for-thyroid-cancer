{
 "cells": [
  {
   "cell_type": "code",
   "execution_count": 35,
   "metadata": {},
   "outputs": [],
   "source": [
    "import os\n",
    "import sys\n",
    "module_path = os.path.abspath(os.path.join('..'))\n",
    "if module_path not in sys.path:\n",
    "    sys.path.append(module_path)\n",
    "    %load_ext autoreload\n",
    "%autoreload 2\n",
    "from utils.core import Load_data\n",
    "import pandas as pd\n",
    "import numpy as np\n",
    "from Model.preprocessing.pipelines import Data_Process\n",
    "from Model.preprocessing.datasetManager import DatasetManger\n",
    "from Model.base.train import cross_validation\n",
    "from Model.base.model import make_model\n",
    "from Model.base.logger import LoggerManager\n",
    "import tensorflow as tf\n",
    "from Model.base.evaluator import EvalutionClassifer, Drow, Drow_mean, Save_fig\n",
    "from Model.base.augmentation import Augmentation, Strategies\n",
    "from ydata_profiling import ProfileReport\n",
    "import dataframe_image as dfi"
   ]
  },
  {
   "cell_type": "code",
   "execution_count": 36,
   "metadata": {},
   "outputs": [],
   "source": [
    "column_interest = [\n",
    "    'ti-rads_level',\n",
    "    'original_ngtdm_Coarseness',\n",
    "    'wavelet-HH_glcm_MaximumProbability',\n",
    "    'wavelet-LH_glszm_LargeAreaHighGrayLevelEmphasis',\n",
    "    'sex',\n",
    "    'age',\n",
    "    'size_x',\n",
    "    'ti-rads_margin',\n",
    "    'ti-rads_echogenicfoci',\n",
    "    'wavelet-LH_glcm_SumEntropy',\n",
    "    'original_firstorder_Kurtosis',\n",
    "    'wavelet-LL_glszm_LargeAreaLowGrayLevelEmphasis',\n",
    "    'wavelet-HL_firstorder_Energy',\n",
    "    'size_y',\n",
    "    'ti-rads_shape',\n",
    "    'wavelet-HH_glrlm_RunLengthNonUniformityNormalized',\n",
    "    'size_z',\n",
    "    'wavelet-LL_glcm_MCC',\n",
    "    'wavelet-HH_firstorder_Variance',\n",
    "    'wavelet-HL_glszm_HighGrayLevelZoneEmphasis',\n",
    "    'wavelet-HH_glszm_LargeAreaHighGrayLevelEmphasis',\n",
    "    'original_firstorder_InterquartileRange',\n",
    "    'wavelet-HL_glrlm_ShortRunLowGrayLevelEmphasis',\n",
    "    'wavelet-HL_glszm_LargeAreaHighGrayLevelEmphasis',\n",
    "    'original_firstorder_Skewness',\n",
    "    'wavelet-LH_gldm_DependenceEntropy',\n",
    "    'original_glszm_LargeAreaLowGrayLevelEmphasis',\n",
    "    'wavelet-HH_glrlm_RunLengthNonUniformity',\n",
    "    'original_shape2D_Sphericity',\n",
    "    'wavelet-HL_firstorder_Median'\n",
    "]"
   ]
  },
  {
   "cell_type": "code",
   "execution_count": 37,
   "metadata": {},
   "outputs": [],
   "source": [
    "dataset_pd = pd.read_csv(\n",
    "    \"../dataset/FullDatasetAndWavlet.csv\", index_col=\"annot_id\")\n",
    "dataset_pd.loc[\"125_\"] = dataset_pd.loc[\"125_\"].fillna(0.9)"
   ]
  },
  {
   "cell_type": "code",
   "execution_count": 38,
   "metadata": {},
   "outputs": [],
   "source": [
    "X = dataset_pd[column_interest]\n",
    "\n",
    "\n",
    "Y = dataset_pd['histopath_diagnosis'].astype(np.float32)"
   ]
  },
  {
   "cell_type": "code",
   "execution_count": 39,
   "metadata": {},
   "outputs": [],
   "source": [
    "categorical_features = [\"sex\"]  # remvoed by mrmr \"location\"\n",
    "\n",
    "# [\"ti-rads_level\", \"size_x\", \"size_y\", \"size_z\", \"age\" ]\n",
    "numerical_features = [\"ti-rads_level\", \"age\"]\n",
    "\n",
    "Ti_rads_featurea = [\"ti-rads_margin\", \"ti-rads_shape\",\n",
    "                    \"ti-rads_echogenicfoci\"]  # removed by mrmr \"ti-rads_composition\", \"ti-rads_echogenicity\"\n",
    "\n",
    "numerical_features = list(X[X.columns[~X.columns.isin(\n",
    "    categorical_features + Ti_rads_featurea)]].columns)"
   ]
  },
  {
   "cell_type": "code",
   "execution_count": 40,
   "metadata": {},
   "outputs": [],
   "source": [
    "copy_X = X.copy()\n",
    "copy_X[\"target\"] = Y"
   ]
  },
  {
   "cell_type": "code",
   "execution_count": 41,
   "metadata": {},
   "outputs": [],
   "source": [
    "corr = copy_X[numerical_features +\n",
    "              Ti_rads_featurea].corrwith(copy_X[\"target\"]).sort_values()\n",
    "corr.index.names =[\"features\"]\n",
    "dfi.export(corr.to_frame(\"PCC\").style.background_gradient(cmap='coolwarm'),'df_styled.png')"
   ]
  }
 ],
 "metadata": {
  "kernelspec": {
   "display_name": "streamlitbase",
   "language": "python",
   "name": "python3"
  },
  "language_info": {
   "codemirror_mode": {
    "name": "ipython",
    "version": 3
   },
   "file_extension": ".py",
   "mimetype": "text/x-python",
   "name": "python",
   "nbconvert_exporter": "python",
   "pygments_lexer": "ipython3",
   "version": "0.0.0"
  }
 },
 "nbformat": 4,
 "nbformat_minor": 2
}
